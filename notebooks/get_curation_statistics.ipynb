{
 "cells": [
  {
   "cell_type": "code",
   "execution_count": 1,
   "metadata": {},
   "outputs": [],
   "source": [
    "with open('HIVE_C-RVDBv18.0_curated.fasta') as f:\n",
    "    lines = f.readlines()"
   ]
  },
  {
   "cell_type": "code",
   "execution_count": 2,
   "metadata": {},
   "outputs": [
    {
     "name": "stdout",
     "output_type": "stream",
     "text": [
      "1542236\n"
     ]
    }
   ],
   "source": [
    "print(len(lines))"
   ]
  },
  {
   "cell_type": "code",
   "execution_count": 3,
   "metadata": {},
   "outputs": [],
   "source": [
    "line_iterate = [x for x in range(0, len(lines), 2)]"
   ]
  },
  {
   "cell_type": "code",
   "execution_count": 4,
   "metadata": {},
   "outputs": [
    {
     "name": "stdout",
     "output_type": "stream",
     "text": [
      "0\n",
      "100000\n",
      "200000\n",
      "300000\n",
      "400000\n",
      "500000\n",
      "600000\n",
      "700000\n",
      "800000\n",
      "900000\n",
      "1000000\n",
      "1100000\n",
      "1200000\n",
      "1300000\n",
      "1400000\n",
      "1500000\n",
      "done!\n"
     ]
    }
   ],
   "source": [
    "masked = []\n",
    "masked_genomes = []\n",
    "\n",
    "masked_completely = 0\n",
    "\n",
    "for index in line_iterate:\n",
    "    \n",
    "    if (index % 100000) == 0:\n",
    "        print(index)\n",
    "    \n",
    "    sequence = lines[index + 1].strip()\n",
    "    \n",
    "    sequence_length = len(sequence)\n",
    "    \n",
    "    masked_percentage = round((sequence.count('N') / sequence_length)*100, 1)\n",
    "    \n",
    "    masked.append(masked_percentage)\n",
    "    \n",
    "    if (int(masked_percentage)) == 100:\n",
    "        masked_completely = masked_completely + 1\n",
    "        genome_name = lines[index].strip()\n",
    "        masked_genomes.append(genome_name)\n",
    "        \n",
    "print(\"done!\")"
   ]
  },
  {
   "cell_type": "code",
   "execution_count": 5,
   "metadata": {},
   "outputs": [
    {
     "name": "stdout",
     "output_type": "stream",
     "text": [
      "771118\n"
     ]
    }
   ],
   "source": [
    "print(len(masked))"
   ]
  },
  {
   "cell_type": "code",
   "execution_count": 6,
   "metadata": {},
   "outputs": [],
   "source": [
    "f=open('completely_masked_genomes.txt','w')\n",
    "for ele in masked_genomes:\n",
    "    f.write(ele+'\\n')\n",
    "\n",
    "f.close()"
   ]
  },
  {
   "cell_type": "markdown",
   "metadata": {},
   "source": [
    "# Analysis of genomes masking"
   ]
  },
  {
   "cell_type": "code",
   "execution_count": 7,
   "metadata": {},
   "outputs": [
    {
     "name": "stdout",
     "output_type": "stream",
     "text": [
      "Average contamination per genome: 11.8% , standard deviation = 18.0\n",
      "Median contamination per genome: 3.9%\n",
      "Mode contamination per genome: 0.0%\n"
     ]
    }
   ],
   "source": [
    "from statistics import mean\n",
    "from statistics import stdev\n",
    "from statistics import median\n",
    "from statistics import mode\n",
    "\n",
    "print(\"Average contamination per genome: \" + str(round(mean(masked), 1)) + \"% , standard deviation = \" + str(round(stdev(masked), 1)))\n",
    "print(\"Median contamination per genome: \" + str(round(median(masked), 1)) + \"%\")\n",
    "print(\"Mode contamination per genome: \" + str(round(mode(masked), 1)) + \"%\")"
   ]
  },
  {
   "cell_type": "code",
   "execution_count": 9,
   "metadata": {},
   "outputs": [
    {
     "data": {
      "image/png": "[encoded data removed]",
      "text/plain": [
       "<matplotlib.figure.Figure at 0x14556a128>"
      ]
     },
     "metadata": {
      "needs_background": "light"
     },
     "output_type": "display_data"
    }
   ],
   "source": [
    "import matplotlib.pyplot as plt\n",
    "\n",
    "ax = plt.subplot(1, 1, 1)\n",
    "\n",
    "binwidth = 3\n",
    "\n",
    "ax.hist(masked, bins = int(100/binwidth),\n",
    "    color = 'lightskyblue', edgecolor = 'black', density=True)\n",
    "    \n",
    "    # Title and labels\n",
    "ax.set_xlabel('Masked (%)')\n",
    "ax.set_ylabel('Probability density')\n",
    "\n",
    "plt.tight_layout()\n",
    "plt.show()"
   ]
  }
 ],
 "metadata": {
  "kernelspec": {
   "display_name": "Python 3",
   "language": "python",
   "name": "python3"
  },
  "language_info": {
   "codemirror_mode": {
    "name": "ipython",
    "version": 3
   },
   "file_extension": ".py",
   "mimetype": "text/x-python",
   "name": "python",
   "nbconvert_exporter": "python",
   "pygments_lexer": "ipython3",
   "version": "3.6.4"
  }
 },
 "nbformat": 4,
 "nbformat_minor": 2
}
